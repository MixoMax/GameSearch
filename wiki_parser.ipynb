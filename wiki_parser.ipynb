{
 "cells": [
  {
   "cell_type": "code",
   "execution_count": 2,
   "metadata": {},
   "outputs": [],
   "source": [
    "#WikiData json Dump parser\n",
    "import json\n",
    "import sqlite3\n",
    "import fileinput"
   ]
  },
  {
   "cell_type": "code",
   "execution_count": null,
   "metadata": {},
   "outputs": [],
   "source": [
    "#loop through json file\n",
    "#if the entry has tag Q7889 (video game) add it to a temp json file\n",
    "#open json file\n",
    "file_path = \"./data/wikidata.json\"\n",
    "out_file_path = \"./data/video_games.json\"\n",
    "\n",
    "#we cant open the file directly because it is too big\n",
    "#so we use fileinput to read it line by line\n",
    "\n",
    "file = fileinput.input(file_path)\n",
    "\n",
    "#open output file\n",
    "out_file = open(out_file_path, \"w\")\n",
    "\n",
    "#loop through file\n",
    "for line in file:\n",
    "    #load json\n",
    "    json_line = json.loads(line)\n",
    "    #check if the item has the tag Q7889 (video game)\n",
    "    if \"P31\" in json_line[\"claims\"]:\n",
    "        if json_line[\"claims\"][\"P31\"][0][\"mainsnak\"][\"datavalue\"][\"value\"][\"id\"] == \"Q7889\":\n",
    "            #write to file\n",
    "            out_file.write(line)\n",
    "            print(\"found video game\")\n",
    "            print(json_line[\"id\"])"
   ]
  }
 ],
 "metadata": {
  "kernelspec": {
   "display_name": "Python 3",
   "language": "python",
   "name": "python3"
  },
  "language_info": {
   "codemirror_mode": {
    "name": "ipython",
    "version": 3
   },
   "file_extension": ".py",
   "mimetype": "text/x-python",
   "name": "python",
   "nbconvert_exporter": "python",
   "pygments_lexer": "ipython3",
   "version": "3.10.11"
  }
 },
 "nbformat": 4,
 "nbformat_minor": 2
}
